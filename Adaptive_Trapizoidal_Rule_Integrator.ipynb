{
 "cells": [
  {
   "cell_type": "markdown",
   "metadata": {},
   "source": [
    "# Adaptive Trapizoidal Rule Integrator"
   ]
  },
  {
   "cell_type": "code",
   "execution_count": 1,
   "metadata": {},
   "outputs": [],
   "source": [
    "#Imports\n",
    "import numpy as np\n",
    "import time"
   ]
  },
  {
   "cell_type": "code",
   "execution_count": 2,
   "metadata": {},
   "outputs": [],
   "source": [
    "#Adaptive integrator\n",
    "\n",
    "def get_estimate(left,right,function):\n",
    "    \n",
    "    return 1/2*(right-left)*(function(left)+function(right))\n",
    "\n",
    "def divide_and_conquer(left, right, prev_estimate, threshold, function):\n",
    "    \n",
    "    mid_point = left+(right-left)/2\n",
    "    \n",
    "    left_estimate = get_estimate(left, mid_point, function)\n",
    "    right_estimate = get_estimate(mid_point, right, function)\n",
    "    \n",
    "    new_estimate = left_estimate + right_estimate\n",
    "    \n",
    "    if np.abs(new_estimate-prev_estimate) < threshold:\n",
    "        \n",
    "        return new_estimate\n",
    "    \n",
    "    else:\n",
    "        \n",
    "        return divide_and_conquer(left, mid_point, left_estimate, threshold, function) + divide_and_conquer(mid_point, right, right_estimate, threshold, function)\n",
    "        \n",
    "        "
   ]
  },
  {
   "cell_type": "markdown",
   "metadata": {},
   "source": [
    "Test adaptive integrator on the following integral:\n",
    "\n",
    "$\\displaystyle \\int_0^\\infty \\frac{1}{(x+2)x^{\\frac{1}{3}}} = \\frac{2^{\\frac{2}{3}}\\pi}{\\sqrt{3}} \\approx 2.87922701884465$"
   ]
  },
  {
   "cell_type": "code",
   "execution_count": 3,
   "metadata": {},
   "outputs": [],
   "source": [
    "# Test function to be integrated\n",
    "def func(x):\n",
    "    \n",
    "    return 1/((2+x)*x**(1/3))"
   ]
  },
  {
   "cell_type": "code",
   "execution_count": 4,
   "metadata": {},
   "outputs": [
    {
     "name": "stdout",
     "output_type": "stream",
     "text": [
      "func(1) =  0.3333333333333333\n"
     ]
    }
   ],
   "source": [
    "# Check function gives expected output, f(1) = 1/3\n",
    "print('func(1) = ', func(1))"
   ]
  },
  {
   "cell_type": "code",
   "execution_count": 5,
   "metadata": {},
   "outputs": [
    {
     "name": "stdout",
     "output_type": "stream",
     "text": [
      "The approximate integral is:  2.8792270189503437\n",
      "\n",
      "Execution time was: 6.562120199203491 s\n"
     ]
    }
   ],
   "source": [
    "lower_bound = 5e-324\n",
    "\n",
    "upper_bound = 1e308\n",
    "\n",
    "initial_estimate = 3\n",
    "\n",
    "threshold = 1e-15\n",
    "\n",
    "start = time.time()\n",
    "\n",
    "integral = divide_and_conquer(lower_bound, upper_bound, initial_estimate, threshold, func)\n",
    "\n",
    "end = time.time()\n",
    "\n",
    "print('The approximate integral is: ', integral)\n",
    "\n",
    "print('')\n",
    "\n",
    "print('Execution time was:', end - start, 's')\n"
   ]
  }
 ],
 "metadata": {
  "kernelspec": {
   "display_name": "Python 3",
   "language": "python",
   "name": "python3"
  },
  "language_info": {
   "codemirror_mode": {
    "name": "ipython",
    "version": 3
   },
   "file_extension": ".py",
   "mimetype": "text/x-python",
   "name": "python",
   "nbconvert_exporter": "python",
   "pygments_lexer": "ipython3",
   "version": "3.7.7"
  }
 },
 "nbformat": 4,
 "nbformat_minor": 2
}
